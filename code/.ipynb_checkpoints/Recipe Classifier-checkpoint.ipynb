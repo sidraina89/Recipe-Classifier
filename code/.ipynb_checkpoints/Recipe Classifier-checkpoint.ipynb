{
 "cells": [
  {
   "cell_type": "code",
   "execution_count": 131,
   "metadata": {},
   "outputs": [],
   "source": [
    "import numpy as np\n",
    "import pandas as pd\n",
    "import json\n",
    "import matplotlib.pyplot as plt\n",
    "plt.style.use('ggplot')\n",
    "%matplotlib inline\n",
    "import seaborn as sns\n",
    "from gensim import corpora,models, similarities\n",
    "from nltk.corpus import brown\n",
    "from collections import Counter\n",
    "from sklearn.feature_extraction.text import CountVectorizer"
   ]
  },
  {
   "cell_type": "code",
   "execution_count": 5,
   "metadata": {},
   "outputs": [],
   "source": [
    "# Read Training and testing data\n",
    "with open(\"../data/train.json\",\"r\") as read_train:\n",
    "    train = json.load(read_train)\n",
    "with open(\"../data/test.json\",\"r\") as read_test:\n",
    "    test = json.load(read_test)"
   ]
  },
  {
   "cell_type": "markdown",
   "metadata": {},
   "source": [
    "Converting JSON format which is basically a dict to a pandas dataframe"
   ]
  },
  {
   "cell_type": "code",
   "execution_count": 7,
   "metadata": {},
   "outputs": [],
   "source": [
    "train_df = pd.io.json.json_normalize(train)\n",
    "test_df = pd.io.json.json_normalize(test)"
   ]
  },
  {
   "cell_type": "code",
   "execution_count": 12,
   "metadata": {},
   "outputs": [
    {
     "data": {
      "text/html": [
       "<div>\n",
       "<style scoped>\n",
       "    .dataframe tbody tr th:only-of-type {\n",
       "        vertical-align: middle;\n",
       "    }\n",
       "\n",
       "    .dataframe tbody tr th {\n",
       "        vertical-align: top;\n",
       "    }\n",
       "\n",
       "    .dataframe thead th {\n",
       "        text-align: right;\n",
       "    }\n",
       "</style>\n",
       "<table border=\"1\" class=\"dataframe\">\n",
       "  <thead>\n",
       "    <tr style=\"text-align: right;\">\n",
       "      <th></th>\n",
       "      <th>cuisine</th>\n",
       "      <th>id</th>\n",
       "      <th>ingredients</th>\n",
       "    </tr>\n",
       "  </thead>\n",
       "  <tbody>\n",
       "    <tr>\n",
       "      <th>0</th>\n",
       "      <td>greek</td>\n",
       "      <td>10259</td>\n",
       "      <td>[romaine lettuce, black olives, grape tomatoes...</td>\n",
       "    </tr>\n",
       "    <tr>\n",
       "      <th>1</th>\n",
       "      <td>southern_us</td>\n",
       "      <td>25693</td>\n",
       "      <td>[plain flour, ground pepper, salt, tomatoes, g...</td>\n",
       "    </tr>\n",
       "    <tr>\n",
       "      <th>2</th>\n",
       "      <td>filipino</td>\n",
       "      <td>20130</td>\n",
       "      <td>[eggs, pepper, salt, mayonaise, cooking oil, g...</td>\n",
       "    </tr>\n",
       "    <tr>\n",
       "      <th>3</th>\n",
       "      <td>indian</td>\n",
       "      <td>22213</td>\n",
       "      <td>[water, vegetable oil, wheat, salt]</td>\n",
       "    </tr>\n",
       "    <tr>\n",
       "      <th>4</th>\n",
       "      <td>indian</td>\n",
       "      <td>13162</td>\n",
       "      <td>[black pepper, shallots, cornflour, cayenne pe...</td>\n",
       "    </tr>\n",
       "  </tbody>\n",
       "</table>\n",
       "</div>"
      ],
      "text/plain": [
       "       cuisine     id                                        ingredients\n",
       "0        greek  10259  [romaine lettuce, black olives, grape tomatoes...\n",
       "1  southern_us  25693  [plain flour, ground pepper, salt, tomatoes, g...\n",
       "2     filipino  20130  [eggs, pepper, salt, mayonaise, cooking oil, g...\n",
       "3       indian  22213                [water, vegetable oil, wheat, salt]\n",
       "4       indian  13162  [black pepper, shallots, cornflour, cayenne pe..."
      ]
     },
     "execution_count": 12,
     "metadata": {},
     "output_type": "execute_result"
    }
   ],
   "source": [
    "train_df.head()"
   ]
  },
  {
   "cell_type": "markdown",
   "metadata": {},
   "source": [
    "Lets check the shape of training dataset"
   ]
  },
  {
   "cell_type": "code",
   "execution_count": 14,
   "metadata": {},
   "outputs": [
    {
     "data": {
      "text/plain": [
       "(39774, 3)"
      ]
     },
     "execution_count": 14,
     "metadata": {},
     "output_type": "execute_result"
    }
   ],
   "source": [
    "train_df.shape"
   ]
  },
  {
   "cell_type": "markdown",
   "metadata": {},
   "source": [
    "Let us examine the target variable i.e. cuisine"
   ]
  },
  {
   "cell_type": "code",
   "execution_count": 104,
   "metadata": {},
   "outputs": [
    {
     "data": {
      "image/png": "[encoded data removed]",
      "text/plain": [
       "<Figure size 432x288 with 1 Axes>"
      ]
     },
     "metadata": {},
     "output_type": "display_data"
    }
   ],
   "source": [
    "train_df.cuisine.value_counts().plot(kind = \"barh\");"
   ]
  },
  {
   "cell_type": "markdown",
   "metadata": {},
   "source": [
    "A lot of italian, mexican, southern US and Asian cuisine recipes are provided in the training data.\n",
    "Let us take a look at most common ingredients for each cuisine"
   ]
  },
  {
   "cell_type": "code",
   "execution_count": 109,
   "metadata": {
    "collapsed": true
   },
   "outputs": [],
   "source": [
    "counters = {}\n",
    "for cuisine in train_df['cuisine'].unique():\n",
    "    counters[cuisine] = Counter()\n",
    "    indices = (train_df['cuisine'] == cuisine)\n",
    "    for ingredients in train_df[indices]['ingredients']:\n",
    "        counters[cuisine].update(ingredients)"
   ]
  },
  {
   "cell_type": "code",
   "execution_count": 112,
   "metadata": {},
   "outputs": [
    {
     "data": {
      "text/plain": [
       "[('salt', 1934),\n",
       " ('onions', 1195),\n",
       " ('garam masala', 862),\n",
       " ('water', 820),\n",
       " ('ground turmeric', 728),\n",
       " ('garlic', 726),\n",
       " ('cumin seed', 697),\n",
       " ('ground cumin', 683),\n",
       " ('vegetable oil', 593),\n",
       " ('oil', 546)]"
      ]
     },
     "execution_count": 112,
     "metadata": {},
     "output_type": "execute_result"
    }
   ],
   "source": [
    "counters['indian'].most_common(10)"
   ]
  },
  {
   "cell_type": "code",
   "execution_count": 113,
   "metadata": {},
   "outputs": [
    {
     "data": {
      "text/plain": [
       "[('salt', 3454),\n",
       " ('olive oil', 3111),\n",
       " ('garlic cloves', 1619),\n",
       " ('grated parmesan cheese', 1580),\n",
       " ('garlic', 1471),\n",
       " ('ground black pepper', 1444),\n",
       " ('extra-virgin olive oil', 1362),\n",
       " ('onions', 1240),\n",
       " ('water', 1052),\n",
       " ('butter', 1030)]"
      ]
     },
     "execution_count": 113,
     "metadata": {},
     "output_type": "execute_result"
    }
   ],
   "source": [
    "counters['italian'].most_common(10)"
   ]
  },
  {
   "cell_type": "code",
   "execution_count": 130,
   "metadata": {},
   "outputs": [
    {
     "data": {
      "text/html": [
       "<div>\n",
       "<style scoped>\n",
       "    .dataframe tbody tr th:only-of-type {\n",
       "        vertical-align: middle;\n",
       "    }\n",
       "\n",
       "    .dataframe tbody tr th {\n",
       "        vertical-align: top;\n",
       "    }\n",
       "\n",
       "    .dataframe thead th {\n",
       "        text-align: right;\n",
       "    }\n",
       "</style>\n",
       "<table border=\"1\" class=\"dataframe\">\n",
       "  <thead>\n",
       "    <tr style=\"text-align: right;\">\n",
       "      <th></th>\n",
       "      <th>top1</th>\n",
       "      <th>top2</th>\n",
       "      <th>top3</th>\n",
       "      <th>top4</th>\n",
       "      <th>top5</th>\n",
       "      <th>top6</th>\n",
       "      <th>top7</th>\n",
       "      <th>top8</th>\n",
       "      <th>top9</th>\n",
       "      <th>top10</th>\n",
       "    </tr>\n",
       "  </thead>\n",
       "  <tbody>\n",
       "    <tr>\n",
       "      <th>greek</th>\n",
       "      <td>salt</td>\n",
       "      <td>olive oil</td>\n",
       "      <td>dried oregano</td>\n",
       "      <td>garlic cloves</td>\n",
       "      <td>feta cheese crumbles</td>\n",
       "      <td>extra-virgin olive oil</td>\n",
       "      <td>fresh lemon juice</td>\n",
       "      <td>ground black pepper</td>\n",
       "      <td>garlic</td>\n",
       "      <td>pepper</td>\n",
       "    </tr>\n",
       "    <tr>\n",
       "      <th>southern_us</th>\n",
       "      <td>salt</td>\n",
       "      <td>butter</td>\n",
       "      <td>all-purpose flour</td>\n",
       "      <td>sugar</td>\n",
       "      <td>large eggs</td>\n",
       "      <td>baking powder</td>\n",
       "      <td>water</td>\n",
       "      <td>unsalted butter</td>\n",
       "      <td>milk</td>\n",
       "      <td>buttermilk</td>\n",
       "    </tr>\n",
       "    <tr>\n",
       "      <th>filipino</th>\n",
       "      <td>salt</td>\n",
       "      <td>garlic</td>\n",
       "      <td>water</td>\n",
       "      <td>onions</td>\n",
       "      <td>soy sauce</td>\n",
       "      <td>pepper</td>\n",
       "      <td>oil</td>\n",
       "      <td>sugar</td>\n",
       "      <td>carrots</td>\n",
       "      <td>ground black pepper</td>\n",
       "    </tr>\n",
       "    <tr>\n",
       "      <th>indian</th>\n",
       "      <td>salt</td>\n",
       "      <td>onions</td>\n",
       "      <td>garam masala</td>\n",
       "      <td>water</td>\n",
       "      <td>ground turmeric</td>\n",
       "      <td>garlic</td>\n",
       "      <td>cumin seed</td>\n",
       "      <td>ground cumin</td>\n",
       "      <td>vegetable oil</td>\n",
       "      <td>oil</td>\n",
       "    </tr>\n",
       "    <tr>\n",
       "      <th>jamaican</th>\n",
       "      <td>salt</td>\n",
       "      <td>onions</td>\n",
       "      <td>water</td>\n",
       "      <td>garlic</td>\n",
       "      <td>ground allspice</td>\n",
       "      <td>pepper</td>\n",
       "      <td>scallions</td>\n",
       "      <td>dried thyme</td>\n",
       "      <td>black pepper</td>\n",
       "      <td>garlic cloves</td>\n",
       "    </tr>\n",
       "    <tr>\n",
       "      <th>spanish</th>\n",
       "      <td>salt</td>\n",
       "      <td>olive oil</td>\n",
       "      <td>garlic cloves</td>\n",
       "      <td>extra-virgin olive oil</td>\n",
       "      <td>onions</td>\n",
       "      <td>water</td>\n",
       "      <td>tomatoes</td>\n",
       "      <td>ground black pepper</td>\n",
       "      <td>red bell pepper</td>\n",
       "      <td>pepper</td>\n",
       "    </tr>\n",
       "    <tr>\n",
       "      <th>italian</th>\n",
       "      <td>salt</td>\n",
       "      <td>olive oil</td>\n",
       "      <td>garlic cloves</td>\n",
       "      <td>grated parmesan cheese</td>\n",
       "      <td>garlic</td>\n",
       "      <td>ground black pepper</td>\n",
       "      <td>extra-virgin olive oil</td>\n",
       "      <td>onions</td>\n",
       "      <td>water</td>\n",
       "      <td>butter</td>\n",
       "    </tr>\n",
       "    <tr>\n",
       "      <th>mexican</th>\n",
       "      <td>salt</td>\n",
       "      <td>onions</td>\n",
       "      <td>ground cumin</td>\n",
       "      <td>garlic</td>\n",
       "      <td>olive oil</td>\n",
       "      <td>chili powder</td>\n",
       "      <td>jalapeno chilies</td>\n",
       "      <td>sour cream</td>\n",
       "      <td>avocado</td>\n",
       "      <td>corn tortillas</td>\n",
       "    </tr>\n",
       "    <tr>\n",
       "      <th>chinese</th>\n",
       "      <td>soy sauce</td>\n",
       "      <td>sesame oil</td>\n",
       "      <td>salt</td>\n",
       "      <td>corn starch</td>\n",
       "      <td>sugar</td>\n",
       "      <td>garlic</td>\n",
       "      <td>water</td>\n",
       "      <td>green onions</td>\n",
       "      <td>vegetable oil</td>\n",
       "      <td>scallions</td>\n",
       "    </tr>\n",
       "    <tr>\n",
       "      <th>british</th>\n",
       "      <td>salt</td>\n",
       "      <td>all-purpose flour</td>\n",
       "      <td>butter</td>\n",
       "      <td>milk</td>\n",
       "      <td>eggs</td>\n",
       "      <td>unsalted butter</td>\n",
       "      <td>sugar</td>\n",
       "      <td>onions</td>\n",
       "      <td>baking powder</td>\n",
       "      <td>large eggs</td>\n",
       "    </tr>\n",
       "    <tr>\n",
       "      <th>thai</th>\n",
       "      <td>fish sauce</td>\n",
       "      <td>garlic</td>\n",
       "      <td>salt</td>\n",
       "      <td>coconut milk</td>\n",
       "      <td>vegetable oil</td>\n",
       "      <td>soy sauce</td>\n",
       "      <td>sugar</td>\n",
       "      <td>water</td>\n",
       "      <td>garlic cloves</td>\n",
       "      <td>fresh lime juice</td>\n",
       "    </tr>\n",
       "    <tr>\n",
       "      <th>vietnamese</th>\n",
       "      <td>fish sauce</td>\n",
       "      <td>sugar</td>\n",
       "      <td>salt</td>\n",
       "      <td>garlic</td>\n",
       "      <td>water</td>\n",
       "      <td>carrots</td>\n",
       "      <td>soy sauce</td>\n",
       "      <td>shallots</td>\n",
       "      <td>garlic cloves</td>\n",
       "      <td>vegetable oil</td>\n",
       "    </tr>\n",
       "    <tr>\n",
       "      <th>cajun_creole</th>\n",
       "      <td>salt</td>\n",
       "      <td>onions</td>\n",
       "      <td>garlic</td>\n",
       "      <td>green bell pepper</td>\n",
       "      <td>butter</td>\n",
       "      <td>olive oil</td>\n",
       "      <td>cayenne pepper</td>\n",
       "      <td>cajun seasoning</td>\n",
       "      <td>all-purpose flour</td>\n",
       "      <td>water</td>\n",
       "    </tr>\n",
       "    <tr>\n",
       "      <th>brazilian</th>\n",
       "      <td>salt</td>\n",
       "      <td>onions</td>\n",
       "      <td>olive oil</td>\n",
       "      <td>lime</td>\n",
       "      <td>water</td>\n",
       "      <td>garlic cloves</td>\n",
       "      <td>garlic</td>\n",
       "      <td>cachaca</td>\n",
       "      <td>sugar</td>\n",
       "      <td>tomatoes</td>\n",
       "    </tr>\n",
       "    <tr>\n",
       "      <th>french</th>\n",
       "      <td>salt</td>\n",
       "      <td>sugar</td>\n",
       "      <td>all-purpose flour</td>\n",
       "      <td>unsalted butter</td>\n",
       "      <td>olive oil</td>\n",
       "      <td>butter</td>\n",
       "      <td>water</td>\n",
       "      <td>large eggs</td>\n",
       "      <td>garlic cloves</td>\n",
       "      <td>ground black pepper</td>\n",
       "    </tr>\n",
       "    <tr>\n",
       "      <th>japanese</th>\n",
       "      <td>soy sauce</td>\n",
       "      <td>salt</td>\n",
       "      <td>mirin</td>\n",
       "      <td>sugar</td>\n",
       "      <td>water</td>\n",
       "      <td>sake</td>\n",
       "      <td>rice vinegar</td>\n",
       "      <td>vegetable oil</td>\n",
       "      <td>scallions</td>\n",
       "      <td>ginger</td>\n",
       "    </tr>\n",
       "    <tr>\n",
       "      <th>irish</th>\n",
       "      <td>salt</td>\n",
       "      <td>all-purpose flour</td>\n",
       "      <td>butter</td>\n",
       "      <td>onions</td>\n",
       "      <td>sugar</td>\n",
       "      <td>potatoes</td>\n",
       "      <td>baking soda</td>\n",
       "      <td>baking powder</td>\n",
       "      <td>milk</td>\n",
       "      <td>carrots</td>\n",
       "    </tr>\n",
       "    <tr>\n",
       "      <th>korean</th>\n",
       "      <td>soy sauce</td>\n",
       "      <td>sesame oil</td>\n",
       "      <td>garlic</td>\n",
       "      <td>green onions</td>\n",
       "      <td>sugar</td>\n",
       "      <td>salt</td>\n",
       "      <td>water</td>\n",
       "      <td>sesame seeds</td>\n",
       "      <td>onions</td>\n",
       "      <td>scallions</td>\n",
       "    </tr>\n",
       "    <tr>\n",
       "      <th>moroccan</th>\n",
       "      <td>salt</td>\n",
       "      <td>olive oil</td>\n",
       "      <td>ground cumin</td>\n",
       "      <td>onions</td>\n",
       "      <td>ground cinnamon</td>\n",
       "      <td>garlic cloves</td>\n",
       "      <td>water</td>\n",
       "      <td>ground ginger</td>\n",
       "      <td>carrots</td>\n",
       "      <td>paprika</td>\n",
       "    </tr>\n",
       "    <tr>\n",
       "      <th>russian</th>\n",
       "      <td>salt</td>\n",
       "      <td>sugar</td>\n",
       "      <td>onions</td>\n",
       "      <td>all-purpose flour</td>\n",
       "      <td>sour cream</td>\n",
       "      <td>eggs</td>\n",
       "      <td>water</td>\n",
       "      <td>butter</td>\n",
       "      <td>unsalted butter</td>\n",
       "      <td>large eggs</td>\n",
       "    </tr>\n",
       "  </tbody>\n",
       "</table>\n",
       "</div>"
      ],
      "text/plain": [
       "                    top1               top2               top3  \\\n",
       "greek               salt          olive oil      dried oregano   \n",
       "southern_us         salt             butter  all-purpose flour   \n",
       "filipino            salt             garlic              water   \n",
       "indian              salt             onions       garam masala   \n",
       "jamaican            salt             onions              water   \n",
       "spanish             salt          olive oil      garlic cloves   \n",
       "italian             salt          olive oil      garlic cloves   \n",
       "mexican             salt             onions       ground cumin   \n",
       "chinese        soy sauce         sesame oil               salt   \n",
       "british             salt  all-purpose flour             butter   \n",
       "thai          fish sauce             garlic               salt   \n",
       "vietnamese    fish sauce              sugar               salt   \n",
       "cajun_creole        salt             onions             garlic   \n",
       "brazilian           salt             onions          olive oil   \n",
       "french              salt              sugar  all-purpose flour   \n",
       "japanese       soy sauce               salt              mirin   \n",
       "irish               salt  all-purpose flour             butter   \n",
       "korean         soy sauce         sesame oil             garlic   \n",
       "moroccan            salt          olive oil       ground cumin   \n",
       "russian             salt              sugar             onions   \n",
       "\n",
       "                                top4                  top5  \\\n",
       "greek                  garlic cloves  feta cheese crumbles   \n",
       "southern_us                    sugar            large eggs   \n",
       "filipino                      onions             soy sauce   \n",
       "indian                         water       ground turmeric   \n",
       "jamaican                      garlic       ground allspice   \n",
       "spanish       extra-virgin olive oil                onions   \n",
       "italian       grated parmesan cheese                garlic   \n",
       "mexican                       garlic             olive oil   \n",
       "chinese                  corn starch                 sugar   \n",
       "british                         milk                  eggs   \n",
       "thai                    coconut milk         vegetable oil   \n",
       "vietnamese                    garlic                 water   \n",
       "cajun_creole       green bell pepper                butter   \n",
       "brazilian                       lime                 water   \n",
       "french               unsalted butter             olive oil   \n",
       "japanese                       sugar                 water   \n",
       "irish                         onions                 sugar   \n",
       "korean                  green onions                 sugar   \n",
       "moroccan                      onions       ground cinnamon   \n",
       "russian            all-purpose flour            sour cream   \n",
       "\n",
       "                                top6                    top7  \\\n",
       "greek         extra-virgin olive oil       fresh lemon juice   \n",
       "southern_us            baking powder                   water   \n",
       "filipino                      pepper                     oil   \n",
       "indian                        garlic              cumin seed   \n",
       "jamaican                      pepper               scallions   \n",
       "spanish                        water                tomatoes   \n",
       "italian          ground black pepper  extra-virgin olive oil   \n",
       "mexican                 chili powder        jalapeno chilies   \n",
       "chinese                       garlic                   water   \n",
       "british              unsalted butter                   sugar   \n",
       "thai                       soy sauce                   sugar   \n",
       "vietnamese                   carrots               soy sauce   \n",
       "cajun_creole               olive oil          cayenne pepper   \n",
       "brazilian              garlic cloves                  garlic   \n",
       "french                        butter                   water   \n",
       "japanese                        sake            rice vinegar   \n",
       "irish                       potatoes             baking soda   \n",
       "korean                          salt                   water   \n",
       "moroccan               garlic cloves                   water   \n",
       "russian                         eggs                   water   \n",
       "\n",
       "                             top8               top9                top10  \n",
       "greek         ground black pepper             garlic               pepper  \n",
       "southern_us       unsalted butter               milk           buttermilk  \n",
       "filipino                    sugar            carrots  ground black pepper  \n",
       "indian               ground cumin      vegetable oil                  oil  \n",
       "jamaican              dried thyme       black pepper        garlic cloves  \n",
       "spanish       ground black pepper    red bell pepper               pepper  \n",
       "italian                    onions              water               butter  \n",
       "mexican                sour cream            avocado       corn tortillas  \n",
       "chinese              green onions      vegetable oil            scallions  \n",
       "british                    onions      baking powder           large eggs  \n",
       "thai                        water      garlic cloves     fresh lime juice  \n",
       "vietnamese               shallots      garlic cloves        vegetable oil  \n",
       "cajun_creole      cajun seasoning  all-purpose flour                water  \n",
       "brazilian                 cachaca              sugar             tomatoes  \n",
       "french                 large eggs      garlic cloves  ground black pepper  \n",
       "japanese            vegetable oil          scallions               ginger  \n",
       "irish               baking powder               milk              carrots  \n",
       "korean               sesame seeds             onions            scallions  \n",
       "moroccan            ground ginger            carrots              paprika  \n",
       "russian                    butter    unsalted butter           large eggs  "
      ]
     },
     "execution_count": 130,
     "metadata": {},
     "output_type": "execute_result"
    }
   ],
   "source": [
    "top10 = pd.DataFrame([[items[0] for items in counters[cuisine].most_common(10)] for cuisine in counters],\n",
    "            index=[cuisine for cuisine in counters],\n",
    "            columns=['top{}'.format(i) for i in range(1, 11)])\n",
    "top10"
   ]
  },
  {
   "cell_type": "markdown",
   "metadata": {},
   "source": [
    "This table gives us a couple of insights:\n",
    "1. A Salty ingredient is the top components of every cuisine except Japanese, Korean, Chinese, Vietnamese and Thai (All Asian cuisines except Indian).\n",
    "2. Soy sauce is the top ingredient for Chinese, Japanese and Korean cuisines.\n",
    "3. Fish oil is top ingredient for Thai and Vietnamese cuisines.\n",
    "4. Brazillian receipes have lime as a very common ingredient which sets it apart from other cuisines.\n",
    "5. Another aspect to note is that some ingridients have multiple names e.g. "
   ]
  },
  {
   "cell_type": "markdown",
   "metadata": {},
   "source": [
    "Given the ingredients of a receipe we need to buils a model that classifies the ingredients to a particular cuisine. The ingredients seem to be in a variable sized list for each observation. Let us do some initial text preprocessing over the ingredients"
   ]
  },
  {
   "cell_type": "code",
   "execution_count": 58,
   "metadata": {},
   "outputs": [],
   "source": [
    "train_df['source'] = \"train\"\n",
    "test_df['source'] = \"test\"\n",
    "test_df['cuisine'] = np.NaN\n",
    "full_data = pd.concat([train_df,test_df],axis = 0,sort = False,ignore_index=True)"
   ]
  },
  {
   "cell_type": "code",
   "execution_count": 59,
   "metadata": {},
   "outputs": [
    {
     "data": {
      "text/plain": [
       "(49718, 4)"
      ]
     },
     "execution_count": 59,
     "metadata": {},
     "output_type": "execute_result"
    }
   ],
   "source": [
    "full_data.shape"
   ]
  },
  {
   "cell_type": "markdown",
   "metadata": {},
   "source": [
    "Converting all tokens from a list to a delimited string"
   ]
  },
  {
   "cell_type": "code",
   "execution_count": 134,
   "metadata": {},
   "outputs": [],
   "source": [
    "full_data['all_ingredients'] = full_data['ingredients'].map(\";\".join)"
   ]
  },
  {
   "cell_type": "markdown",
   "metadata": {},
   "source": [
    "One feature could be number of ingredients present in a receipe. So let us add that as a feature"
   ]
  },
  {
   "cell_type": "code",
   "execution_count": 106,
   "metadata": {},
   "outputs": [],
   "source": [
    "full_data[\"num_ingredients\"] = full_data.ingredients.map(len)"
   ]
  },
  {
   "cell_type": "code",
   "execution_count": 142,
   "metadata": {},
   "outputs": [
    {
     "data": {
      "text/plain": [
       "<matplotlib.axes._subplots.AxesSubplot at 0x13cfde2b5c0>"
      ]
     },
     "execution_count": 142,
     "metadata": {},
     "output_type": "execute_result"
    },
    {
     "data": {
      "image/png": "[encoded data removed]",
      "text/plain": [
       "<Figure size 1080x720 with 1 Axes>"
      ]
     },
     "metadata": {},
     "output_type": "display_data"
    }
   ],
   "source": [
    "plt.figure(figsize=(15,10))\n",
    "sns.boxplot(x=full_data[full_data.source == \"train\"][\"num_ingredients\"], \n",
    "               y = full_data[full_data.source == \"train\"][\"cuisine\"])"
   ]
  },
  {
   "cell_type": "markdown",
   "metadata": {},
   "source": [
    "The distribution of ingredients per cuisine gives us a picture of how many ingredients are used in recipes of that particular cuisine. Does more number of ingredients make the recipe complex? You decide."
   ]
  },
  {
   "cell_type": "code",
   "execution_count": 147,
   "metadata": {
    "collapsed": true
   },
   "outputs": [],
   "source": [
    "train_df = full_data[full_data.source == \"train\"]\n",
    "test_df = full_data[full_data.source == \"test\"]"
   ]
  },
  {
   "cell_type": "code",
   "execution_count": 148,
   "metadata": {},
   "outputs": [],
   "source": [
    "vectorizer = CountVectorizer()\n",
    "X = vectorizer.fit_transform(train_df.all_ingredients.values)"
   ]
  },
  {
   "cell_type": "code",
   "execution_count": 157,
   "metadata": {},
   "outputs": [
    {
     "data": {
      "text/plain": [
       "['romaine',\n",
       " 'lettuce',\n",
       " 'black',\n",
       " 'olives',\n",
       " 'grape',\n",
       " 'tomatoes',\n",
       " 'garlic',\n",
       " 'pepper',\n",
       " 'purple',\n",
       " 'onion']"
      ]
     },
     "execution_count": 157,
     "metadata": {},
     "output_type": "execute_result"
    }
   ],
   "source": [
    "list(vectorizer.vocabulary_.keys())[:10]"
   ]
  },
  {
   "cell_type": "code",
   "execution_count": null,
   "metadata": {
    "collapsed": true
   },
   "outputs": [],
   "source": []
  }
 ],
 "metadata": {
  "kernelspec": {
   "display_name": "Python 3",
   "language": "python",
   "name": "python3"
  },
  "language_info": {
   "codemirror_mode": {
    "name": "ipython",
    "version": 3
   },
   "file_extension": ".py",
   "mimetype": "text/x-python",
   "name": "python",
   "nbconvert_exporter": "python",
   "pygments_lexer": "ipython3",
   "version": "3.6.5"
  }
 },
 "nbformat": 4,
 "nbformat_minor": 2
}
